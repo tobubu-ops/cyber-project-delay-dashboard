{
 "cells": [
  {
   "cell_type": "code",
   "execution_count": 1,
   "id": "39494ed5",
   "metadata": {},
   "outputs": [],
   "source": [
    "import pandas as pd\n",
    "import numpy as np\n",
    "import random\n",
    "from datetime import timedelta, datetime\n",
    "\n",
    "np.random.seed(42)\n",
    "\n",
    "# Sample risk categories\n",
    "risk_categories = ['Resource Constraint', '3rd Party Delay', 'Scope Creep', 'Dependency Conflict', 'Unforeseen Events']\n",
    "\n",
    "# Create 100 synthetic projects\n",
    "projects = []\n",
    "for i in range(1, 101):\n",
    "    project_id = f'CP-{i:03d}'\n",
    "    milestone = random.choice(['Planning', 'Execution', 'Testing', 'Go-Live'])\n",
    "    planned_date = datetime(2025, random.randint(1, 12), random.randint(1, 28))\n",
    "    delay_days = np.random.poisson(10)  # average delay ~10 days\n",
    "    actual_date = planned_date + timedelta(days=delay_days)\n",
    "    risk = random.choices(risk_categories, weights=[0.3, 0.25, 0.2, 0.15, 0.1])[0]\n",
    "\n",
    "    projects.append({\n",
    "        'Project_ID': project_id,\n",
    "        'Milestone': milestone,\n",
    "        'Planned_Date': planned_date,\n",
    "        'Actual_Date': actual_date,\n",
    "        'Delay_Days': (actual_date - planned_date).days,\n",
    "        'Risk_Category': risk\n",
    "    })\n",
    "\n",
    "df = pd.DataFrame(projects)\n",
    "df.to_csv(\"cyber_project_delays.csv\", index=False)"
   ]
  },
  {
   "cell_type": "code",
   "execution_count": 2,
   "id": "f8ca6d15",
   "metadata": {},
   "outputs": [
    {
     "data": {
      "image/png": "[encoded data removed]",
      "text/plain": [
       "<Figure size 576x360 with 1 Axes>"
      ]
     },
     "metadata": {
      "needs_background": "light"
     },
     "output_type": "display_data"
    }
   ],
   "source": [
    "import matplotlib.pyplot as plt\n",
    "\n",
    "summary = df.groupby(\"Risk_Category\")[\"Delay_Days\"].mean().sort_values()\n",
    "\n",
    "summary.plot(kind='barh', title=\"Average Delay Days by Risk Category\", figsize=(8,5))\n",
    "plt.xlabel(\"Average Delay (Days)\")\n",
    "plt.tight_layout()\n",
    "plt.savefig(\"risk_delays.png\")\n",
    "plt.show()"
   ]
  },
  {
   "cell_type": "markdown",
   "id": "b7f8630e",
   "metadata": {},
   "source": [
    "https://github.com/tobubu-ops/cyber-project-delay-dashboard\n"
   ]
  },
  {
   "cell_type": "code",
   "execution_count": 5,
   "id": "ba89ac10",
   "metadata": {},
   "outputs": [
    {
     "name": "stdout",
     "output_type": "stream",
     "text": [
      "fatal: not a git repository (or any of the parent directories): .git\n",
      "fatal: not a git repository (or any of the parent directories): .git\n",
      "fatal: not a git repository (or any of the parent directories): .git\n"
     ]
    }
   ],
   "source": [
    "!git remote add origin https://github.com/tobubu-ops/cyber-project-delay-dashboard.git\n",
    "!git branch -M main\n",
    "!git push -u origin main"
   ]
  },
  {
   "cell_type": "code",
   "execution_count": null,
   "id": "1e29c7e7",
   "metadata": {},
   "outputs": [],
   "source": []
  }
 ],
 "metadata": {
  "kernelspec": {
   "display_name": "Python 3",
   "language": "python",
   "name": "python3"
  },
  "language_info": {
   "codemirror_mode": {
    "name": "ipython",
    "version": 3
   },
   "file_extension": ".py",
   "mimetype": "text/x-python",
   "name": "python",
   "nbconvert_exporter": "python",
   "pygments_lexer": "ipython3",
   "version": "3.8.8"
  }
 },
 "nbformat": 4,
 "nbformat_minor": 5
}
